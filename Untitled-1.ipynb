{
    "cells": [
        {
            "cell_type": "markdown",
            "metadata": {},
            "source": [
                "AniList.co offers a free GraphQL API with loads of cool info about anime. Let's see if we can find some cool insights from it!\n",
                "\n",
                "First let's look at the `media` page which has basic info about virtually every anime.\n",
                "\n",
                "First let's set up a query for this API to get some basic info on some anime.\n",
                "With a little time looking at the documentation i was able to filter the request to:\n",
                "\n",
                "* Anime Only\n",
                "* Japanese Made Only\n",
                "* Start Date after Dec 31, 2012\n",
                "* Aired on TV"
            ]
        },
        {
            "cell_type": "code",
            "execution_count": 1,
            "metadata": {
                "azdata_cell_guid": "59aea489-45a3-4008-a91f-039ddd3e8a8e",
                "tags": []
            },
            "outputs": [],
            "source": [
                "import requests\n",
                "def make_request(page_num,media_type):\n",
                "    query = '''\n",
                "    query ( $page: Int, $perPage: Int\n",
                "  , $startDate_greater: FuzzyDateInt\n",
                ",$countryOfOrigin:CountryCode\n",
                ",$type:MediaType) {\n",
                "        Page (page: $page, perPage: $perPage) {\n",
                "            pageInfo {\n",
                "                total\n",
                "                currentPage\n",
                "                lastPage\n",
                "                hasNextPage\n",
                "                perPage\n",
                "            }\n",
                "            media (startDate_greater:$startDate_greater,\n",
                "            countryOfOrigin:$countryOfOrigin,\n",
                "            type:$type) {\n",
                "                id\n",
                "                title {\n",
                "                    english\n",
                "                    native\n",
                "                }\n",
                "                season\n",
                "                seasonYear\n",
                "                type\n",
                "                format\n",
                "                status\n",
                "                episodes\n",
                "                duration\n",
                "                chapters\n",
                "                volumes\n",
                "                isAdult\n",
                "                averageScore\n",
                "                popularity\n",
                "                source\n",
                "                countryOfOrigin\n",
                "                isLicensed\n",
                "                genres\n",
                "                startDate {\n",
                "                    day\n",
                "                    month\n",
                "                    year\n",
                "                  }\n",
                "                endDate {\n",
                "                    day\n",
                "                    month\n",
                "                    year\n",
                "                  }\n",
                "            }\n",
                "        }\n",
                "    }\n",
                "    '''\n",
                "    variables = {\n",
                "        \"startDate_greater\": 20121231 # Fuzzy Date for Dec 31, 2012\n",
                "  ,\"countryOfOrigin\": \"JP\"\n",
                "  ,\"type\": media_type\n",
                "  ,\"page\": page_num\n",
                "  ,\"perPage\": 500\n",
                "  ,\"format\": \"TV\"\n",
                "    }\n",
                "    \n",
                "    url = 'https://graphql.anilist.co'\n",
                "\n",
                "    response = requests.post(url, json={'query': query, 'variables': variables})\n",
                "    # response = requests.post(url, json={'query': query, 'variables': variables},verify=False)\n",
                "    return response"
            ]
        },
        {
            "cell_type": "markdown",
            "metadata": {},
            "source": [
                "Testing that function, I was getting some weird responses with more than 500 records per page. So I'll limit `perPage` to 500.\n",
                "\n",
                "I'll loop through 10 pages, so that'll get up to 5000 records, but there should be much less than that since 2012."
            ]
        },
        {
            "cell_type": "code",
            "execution_count": 2,
            "metadata": {
                "azdata_cell_guid": "812e2229-143b-4c96-87c9-7ae4a41a37fb",
                "scrolled": true,
                "tags": []
            },
            "outputs": [
                {
                    "name": "stdout",
                    "output_type": "stream",
                    "text": [
                        "91\n"
                    ]
                },
                {
                    "ename": "TypeError",
                    "evalue": "'NoneType' object is not subscriptable",
                    "output_type": "error",
                    "traceback": [
                        "\u001b[1;31m---------------------------------------------------------------------------\u001b[0m",
                        "\u001b[1;31mTypeError\u001b[0m                                 Traceback (most recent call last)",
                        "\u001b[1;32mc:\\Users\\Spruce\\OneDrive\\Documents\\My Cool Projects\\Anime\\Untitled-1.ipynb Cell 4'\u001b[0m in \u001b[0;36m<cell line: 7>\u001b[1;34m()\u001b[0m\n\u001b[0;32m     <a href='vscode-notebook-cell:/c%3A/Users/Spruce/OneDrive/Documents/My%20Cool%20Projects/Anime/Untitled-1.ipynb#ch0000003?line=9'>10</a>\u001b[0m response\u001b[39m=\u001b[39mmake_request(i,\u001b[39m\"\u001b[39m\u001b[39mANIME\u001b[39m\u001b[39m\"\u001b[39m)\n\u001b[0;32m     <a href='vscode-notebook-cell:/c%3A/Users/Spruce/OneDrive/Documents/My%20Cool%20Projects/Anime/Untitled-1.ipynb#ch0000003?line=10'>11</a>\u001b[0m json_data \u001b[39m=\u001b[39m json\u001b[39m.\u001b[39mloads(response\u001b[39m.\u001b[39mtext)\n\u001b[1;32m---> <a href='vscode-notebook-cell:/c%3A/Users/Spruce/OneDrive/Documents/My%20Cool%20Projects/Anime/Untitled-1.ipynb#ch0000003?line=11'>12</a>\u001b[0m df_new\u001b[39m=\u001b[39mpd\u001b[39m.\u001b[39mjson_normalize(json_data[\u001b[39m'\u001b[39;49m\u001b[39mdata\u001b[39;49m\u001b[39m'\u001b[39;49m][\u001b[39m'\u001b[39;49m\u001b[39mPage\u001b[39;49m\u001b[39m'\u001b[39;49m][\u001b[39m'\u001b[39m\u001b[39mmedia\u001b[39m\u001b[39m'\u001b[39m], meta  \u001b[39m=\u001b[39m[[\u001b[39m'\u001b[39m\u001b[39menglish\u001b[39m\u001b[39m'\u001b[39m, \u001b[39m'\u001b[39m\u001b[39mnative\u001b[39m\u001b[39m'\u001b[39m]])\n\u001b[0;32m     <a href='vscode-notebook-cell:/c%3A/Users/Spruce/OneDrive/Documents/My%20Cool%20Projects/Anime/Untitled-1.ipynb#ch0000003?line=12'>13</a>\u001b[0m \u001b[39mif\u001b[39;00m \u001b[39mlen\u001b[39m(json_data[\u001b[39m'\u001b[39m\u001b[39mdata\u001b[39m\u001b[39m'\u001b[39m][\u001b[39m'\u001b[39m\u001b[39mPage\u001b[39m\u001b[39m'\u001b[39m][\u001b[39m'\u001b[39m\u001b[39mmedia\u001b[39m\u001b[39m'\u001b[39m])\u001b[39m>\u001b[39m\u001b[39m0\u001b[39m:\n\u001b[0;32m     <a href='vscode-notebook-cell:/c%3A/Users/Spruce/OneDrive/Documents/My%20Cool%20Projects/Anime/Untitled-1.ipynb#ch0000003?line=13'>14</a>\u001b[0m     df_media\u001b[39m=\u001b[39mpd\u001b[39m.\u001b[39mconcat([df_media,df_new])\n",
                        "\u001b[1;31mTypeError\u001b[0m: 'NoneType' object is not subscriptable"
                    ]
                }
            ],
            "source": [
                "import json\n",
                "import pandas as pd\n",
                "from IPython.display import clear_output\n",
                "df_media=pd.DataFrame()\n",
                "\n",
                "hasNextPage=True\n",
                "for i in range(1,9999):\n",
                "    clear_output()\n",
                "    print(i)\n",
                "    response=make_request(i,\"ANIME\")\n",
                "    json_data = json.loads(response.text)\n",
                "    df_new=pd.json_normalize(json_data['data']['Page']['media'], meta  =[['english', 'native']])\n",
                "    if len(json_data['data']['Page']['media'])>0:\n",
                "        df_media=pd.concat([df_media,df_new])\n",
                "    if json_data['data']['Page']['pageInfo']['hasNextPage']==False:\n",
                "        break\n",
                "df_media.reset_index(inplace=True,drop=True)\n",
                "df_media.sort_values(['startDate.year','startDate.month','startDate.day'])\n",
                "display(df_media)"
            ]
        },
        {
            "cell_type": "markdown",
            "metadata": {},
            "source": [
                "Okay awesome, that looks good.\n",
                "\n",
                "I want to see if certain genres are more popular in different seasons of the year.\n",
                "Let's see what those columns look like."
            ]
        },
        {
            "cell_type": "code",
            "execution_count": null,
            "metadata": {},
            "outputs": [],
            "source": [
                "display(df_media[[\"title.english\",\"title.native\",'genres']])"
            ]
        },
        {
            "cell_type": "markdown",
            "metadata": {},
            "source": [
                "Now some rows in `title.english` are missing, but I don't want to throw those out since Japanese is easy, so I'll leave those in and work with the Japanese name.\n",
                "\n",
                "We've also got multiple genres for each row in the `genres` column, so let's one hot encode them."
            ]
        },
        {
            "cell_type": "code",
            "execution_count": null,
            "metadata": {},
            "outputs": [],
            "source": [
                "from sklearn.preprocessing import MultiLabelBinarizer\n",
                "mlb = MultiLabelBinarizer()\n",
                "df_hot = df_media.join(pd.DataFrame(mlb.fit_transform(df_media.pop('genres')),\n",
                "                          columns=mlb.classes_,\n",
                "                          index=df_media.index))\n",
                "\n",
                "df_hot['averageScore']=pd.to_numeric(df_hot['averageScore'])\n",
                "display(df_hot[[\"title.english\",\"title.native\",'Mahou Shoujo','Horror','Mecha']])\n",
                "print('Original Dataframe has '+str(df_media.shape[1])+' columns')\n",
                "print('One Hot Encoded Dataframe has '+str(df_hot.shape[1])+' columns')"
            ]
        },
        {
            "cell_type": "markdown",
            "metadata": {},
            "source": [
                "That added about 20 columns so lets get rid of some where there weren't too many records so our plot isn't too messy\n",
                "\n",
                "First let's find how many of each genre there are. The One Hot Coded Genre columns start at index=24"
            ]
        },
        {
            "cell_type": "code",
            "execution_count": null,
            "metadata": {
                "azdata_cell_guid": "85928da0-01f2-46e6-8f70-9250732b8a40",
                "tags": [
                    "hide_input"
                ]
            },
            "outputs": [],
            "source": [
                "genre_list=df_hot.iloc[:, list(range(24, df_hot.shape[1]))].sum().sort_values(0,ascending=False)\n",
                "display(genre_list)"
            ]
        },
        {
            "cell_type": "markdown",
            "metadata": {},
            "source": [
                "Wow comedy and Action apply to a lot of titles.\n",
                "\n",
                "Okay let's drop the genres from our dataframe that have less than 500 titles so we're not looking at outliers and our charts aren't too cluttered."
            ]
        },
        {
            "cell_type": "code",
            "execution_count": null,
            "metadata": {},
            "outputs": [],
            "source": [
                "genre_list=genre_list.where(genre_list<500).dropna()\n",
                "df_hot.drop(genre_list.keys(),axis=1,inplace=True)\n",
                "display(df_hot)\n",
                "print('After dropping niche genres, Dataframe has '+str(df_hot.shape[1])+' columns')"
            ]
        },
        {
            "cell_type": "markdown",
            "metadata": {},
            "source": [
                "Perfect, we went from 43 to 34 columns, so we should have a more focused list of genres in our dataset.\n",
                "\n",
                "Now let's look at viewership, but we'll want to divide out the number of titles released from the popularity (which represents total views) to get to an average viewership for each title in a genre.\n",
                "\n",
                "Let's see what it looks like!"
            ]
        },
        {
            "cell_type": "code",
            "execution_count": null,
            "metadata": {},
            "outputs": [],
            "source": [
                "df_season=pd.DataFrame(columns=['index','Season','Viewership'])\n",
                "for x in range(24,df_hot.shape[1]):\n",
                "    colname = df_hot.columns[x]\n",
                "\n",
                "    df_season_genre=df_hot[df_hot.iloc[:, x] == 1]\n",
                "\n",
                "    series_plot_me_count=df_year_genre.groupby('season')['id'].count()\n",
                "    series_plotme_sumPopularity=df_year_genre.groupby('season')['popularity'].sum()\n",
                "    series_plotme_avgRanking=df_year_genre.groupby('season')['averageScore'].mean()\n",
                "    df_year_genre=series_plotme_sumPopularity/series_plot_me_count\n",
                "\n",
                "    df_season_genre=pd.DataFrame({ 'Season': df_season_genre.keys(), 'Viewership': df_season_genre.values, 'Ranking': series_plotme_avgRanking.values })\n",
                "    season_order = [\"SPRING\", \"SUMMER\", \"FALL\", \"WINTER\"]\n",
                "    df_season_genre=df_season_genre.reset_index().set_index(\"Season\").loc[season_order]\n",
                "    df_season_genre['Genre']=colname\n",
                "    if df_season.empty:\n",
                "        df_season=df_season_genre.copy(deep=True)\n",
                "    else:\n",
                "        df_season=pd.concat([df_season,df_season_genre])\n",
                "\n",
                "df_season.index.name = 'Season'\n",
                "df_season.reset_index(inplace=True)\n",
                "df_season.drop(['index'],axis=1,inplace=True)\n",
                "display(df_season.head(12))"
            ]
        },
        {
            "cell_type": "code",
            "execution_count": null,
            "metadata": {},
            "outputs": [],
            "source": [
                "Okay great, got the dataframe, now to plot..."
            ]
        },
        {
            "cell_type": "code",
            "execution_count": null,
            "metadata": {},
            "outputs": [],
            "source": [
                "import seaborn as sns\n",
                "sns.set(rc={'figure.figsize':(11.7,8.27)})\n",
                "\n",
                "lineplot(data=df_season,x=\"Season\",y=\"Viewership\",hue=\"Genre\",style='Genre',size='Genre',sizes=(4,4)).set(title='Anime Viewership By Season And Genre')"
            ]
        },
        {
            "cell_type": "markdown",
            "metadata": {},
            "source": [
                "Okay, well that's a hot mess. We can see which genres have higher average Viewership, but that's about it with this viz.\n",
                "\n",
                "`Drama`, and `Supernatural` are the winners in terms of Viewership, and `Hentai` is the biggest loser\n",
                "\n",
                "However, it's pretty hard to make out any interesting seasonal trends by genre\n",
                "\n",
                "To see those, let's normalize each Genre by its average Viewership and then represent the season-to-season differenes as percents instead of absolute values. (That way the higher absolute Viewerships don't look skewed just because they have larger seasonal swings on an absolute scale)"
            ]
        },
        {
            "cell_type": "code",
            "execution_count": null,
            "metadata": {},
            "outputs": [],
            "source": [
                "viewership_offset_genre=df_season.groupby('Genre')['Viewership'].mean()\n",
                "ranking_offset_genre=df_season.groupby('Genre')['Ranking'].mean()\n",
                "\n",
                "df_norm=df_season.merge(viewership_offset_genre,on='Genre')\n",
                "df_norm=df_norm.merge(ranking_offset_genre,on='Genre')\n",
                "\n",
                "df_norm['Viewership']=(df_norm['Viewership_x']-df_norm['Viewership_y'])/df_norm['Viewership_y']\n",
                "df_norm['Ranking']=(df_norm['Ranking_x']-df_norm['Ranking_y'])/df_norm['Ranking_y']\n",
                "\n",
                "df_norm.drop(['Viewership_x','Viewership_y','Ranking_x','Ranking_y'],axis=1,inplace=True)"
            ]
        },
        {
            "cell_type": "code",
            "execution_count": null,
            "metadata": {},
            "outputs": [],
            "source": [
                "lineplot(data=df_norm,x=\"Season\",y=\"Viewership\",hue=\"Genre\",style='Genre',size='Genre',sizes=(4,4)).set(title='Normalized Anime Viewership By Season And Genre')"
            ]
        },
        {
            "cell_type": "markdown",
            "metadata": {},
            "source": [
                "What's interesting here is in *Summer*, some of the realistic genres like **Romance**, **Slice of Life**, and **Drama** gain more viewership, whereas **Fantasy**, **Adventure**, and **Supernatural** tend to have less relative Viewership. I wonder if that is due to the regular things in life like sunshine, hot dogs, and warm weather making real life seem not so bad. Whereas when it's cold, you'd rather choose something more escapist.\n",
                "\n",
                "The clearest trend is generally all genres have an increase in Viewership between *Fall* and pick up in *Winter*. That makse sense just with people staying inside more with the cold weather as well as New Years holidays.\n",
                "\n",
                "The exception to that is **Supernatural** anime that come out in *Winter* have much worse viewership than any other time. \n",
                "\n",
                "I wonder if Rankings show the same trend"
            ]
        },
        {
            "cell_type": "code",
            "execution_count": null,
            "metadata": {},
            "outputs": [],
            "source": [
                "lineplot(data=df_norm,x=\"Season\",y=\"Ranking\",hue=\"Genre\",style='Genre',size='Genre',sizes=(4,4)).set(title='Normalized Anime Viewership By Season And Genre')"
            ]
        },
        {
            "cell_type": "markdown",
            "metadata": {},
            "source": [
                "In terms of Ratings, *Adventure* is rated very well in **Winter** relative to **Spring**. Not surprising that people would want to go on an adventure when they're stuck inside all **Winter**"
            ]
        },
        {
            "cell_type": "markdown",
            "metadata": {},
            "source": [
                "We also see *Supernatural* again doing poorly in Ranking in **Winter** as well as in Viewership. I wonder if people have a hard time believing in gods in **Winter** when everything outside is cold and dead"
            ]
        },
        {
            "cell_type": "markdown",
            "metadata": {},
            "source": [
                "*Romance* does especially well in the **Spring** in terms of Viewership and Rankings. I guess thats Why they call it the *\"Season of Love\"*"
            ]
        },
        {
            "cell_type": "markdown",
            "metadata": {},
            "source": [
                "Let's look at change in popularity or ranking over the years"
            ]
        },
        {
            "cell_type": "code",
            "execution_count": null,
            "metadata": {},
            "outputs": [],
            "source": [
                "df_year=pd.DataFrame(columns=['index','Season','Viewership'])\n",
                "for x in range(24,df_hot.shape[1]):\n",
                "    colname = df_hot.columns[x]\n",
                "\n",
                "    df_year_genre=df_hot[df_hot.iloc[:, x] == 1]\n",
                "\n",
                "    series_plot_me_count=df_year_genre.groupby('seasonYear')['id'].count()\n",
                "    series_plotme_sumPopularity=df_year_genre.groupby('seasonYear')['popularity'].sum()\n",
                "    series_plotme_avgRanking=df_year_genre.groupby('seasonYear')['averageScore'].mean()\n",
                "    df_year_genre=series_plotme_sumPopularity/series_plot_me_count\n",
                "\n",
                "    df_year_genre=pd.DataFrame({ 'Year': df_year_genre.keys(), 'Viewership': df_year_genre.values, 'Ranking': series_plotme_avgRanking.values })\n",
                "    # season_order = [\"SPRING\", \"SUMMER\", \"FALL\", \"WINTER\"]\n",
                "    # df_year_genre=df_year_genre.reset_index().set_index(\"Season\").loc[season_order]\n",
                "    df_year_genre['Genre']=colname\n",
                "    if df_year.empty:\n",
                "        df_year=df_year_genre.copy(deep=True)\n",
                "    else:\n",
                "        df_year=pd.concat([df_year,df_year_genre])\n",
                "\n",
                "df_year.reset_index(inplace=True)\n",
                "df_year.drop(['index'],axis=1,inplace=True)\n",
                "display(df_year.head(12))"
            ]
        },
        {
            "cell_type": "code",
            "execution_count": null,
            "metadata": {},
            "outputs": [],
            "source": [
                "lineplot(data=df_year,x=\"Year\",y=\"Ranking\",hue=\"Genre\",style='Genre',size='Genre',sizes=(4,4)).set(title='Anime Viewership By Year And Genre')"
            ]
        },
        {
            "cell_type": "markdown",
            "metadata": {},
            "source": [
                "Wow! Since 2020 the **Romance**, **Comedy** and **Slice of Life** animes that have come out have garnered more viewership in 2021 and 2022 than they used to. That may be a sad story of people wanting a return to normal life and normal romance in the wake of the pandemic... or to just have a normal laugh.\n",
                "\n",
                "No increase in the average viewership for a **Hentai** anime as people spent more time at home during the pandemic. Slighlty surprising, but promising."
            ]
        },
        {
            "cell_type": "markdown",
            "metadata": {},
            "source": [
                "Next let's take a look see if anime based on manga are more popular than original anime.\n",
                "\n",
                "First let's see what all types of source material exist in this dataset. The column is called `source`"
            ]
        },
        {
            "cell_type": "code",
            "execution_count": null,
            "metadata": {},
            "outputs": [],
            "source": [
                "df_media.groupby('source').size().sort_values(ascending=False)"
            ]
        },
        {
            "cell_type": "markdown",
            "metadata": {},
            "source": [
                "Interesting, there's a few more options for source material than just manga. \n",
                "\n",
                "Let's see the average ranking of each"
            ]
        },
        {
            "cell_type": "code",
            "execution_count": null,
            "metadata": {},
            "outputs": [],
            "source": [
                "import matplotlib.pyplot as plt\n",
                "\n",
                "df_media['averageScore']=pd.to_numeric(df_media['averageScore'])\n",
                "\n",
                "summarize_popularity=df_media.groupby('source')['averageScore'].mean()\n",
                "\n",
                "fig = plt.figure(figsize = (10, 5))\n",
                "plt.bar(summarize_popularity.keys(), summarize_popularity.values, color ='red',\n",
                "        width = 0.4)\n",
                "plt.title('Anime Rankings By Source Material Type')"
            ]
        },
        {
            "cell_type": "markdown",
            "metadata": {},
            "source": [
                "Surprisingly, not a huge difference in ranking between any genre. `LIGHT_NOVEL` and `MANGA` are slightly ahead but probably not significantly.\n",
                "\n",
                "What about... Viewership?"
            ]
        },
        {
            "cell_type": "code",
            "execution_count": null,
            "metadata": {},
            "outputs": [],
            "source": [
                "series_plot_me_count=df_media.groupby('source')['id'].count()\n",
                "series_plotme_avgPopularity=df_media.groupby('source')['popularity'].sum()\n",
                "\n",
                "df_plotme=series_plotme_avgPopularity/series_plot_me_count\n",
                "\n",
                "import matplotlib.pyplot as plt\n",
                "\n",
                "fig = plt.figure(figsize = (10, 5))\n",
                "plt.bar(df_plotme.keys(), df_plotme.values, color ='green',\n",
                "        width = 0.4)\n",
                "plt.title('Anime Viewership By Source Material Type')"
            ]
        },
        {
            "cell_type": "markdown",
            "metadata": {},
            "source": [
                "Wow okay, we've got a clear winner here as anime based on `LIGHT_NOVEL` have way more viewership than other source material types. Also we have a clear 2nd place in `MANGA`\n",
                "\n",
                "I wonder if that's entirely fair to say or if there's more to that story. Let's trend these over the years and see..."
            ]
        },
        {
            "cell_type": "code",
            "execution_count": null,
            "metadata": {},
            "outputs": [],
            "source": [
                "series_plot_me_count=df_media.groupby(['source','seasonYear'],as_index=False)['id'].count()\n",
                "df_plotme=df_media.groupby(['source','seasonYear'],as_index=False)['popularity'].sum()\n",
                "df_plotme['avgPopularity']=df_plotme['popularity']/series_plot_me_count['id']\n",
                "\n",
                "pd.DataFrame({'Source':df_plotme['source']})\n",
                "\n",
                "\n",
                "import seaborn as sns\n",
                "sns.set_theme(style=\"whitegrid\")\n",
                "\n",
                "# df_media['avgPopularity']=df_media['avgPopularity']/df_media['avgPopularity']\n",
                "\n",
                "# Draw a nested barplot by species and sex\n",
                "g = sns.catplot(\n",
                "    data=df_plotme, kind=\"bar\",\n",
                "    x=\"seasonYear\", y=\"avgPopularity\", hue=\"source\",\n",
                "    ci=\"sd\", palette=\"dark\", alpha=.6, height=6\n",
                ")\n",
                "g.despine(left=True)\n",
                "g.set_axis_labels(\"Year\", \"avgPopularity\")\n",
                "g.legend.set_title(\"Anime Populartiy by Genre and Year\")"
            ]
        },
        {
            "cell_type": "markdown",
            "metadata": {},
            "source": [
                "Wow, year over year, Anime based on `LIGHT_NOVEL` and `MANGA` out-perform others consistently, no outliers. That's very interesting."
            ]
        }
    ],
    "metadata": {
        "interpreter": {
            "hash": "26de051ba29f2982a8de78e945f0abaf191376122a1563185a90213a26c5da77"
        },
        "kernelspec": {
            "display_name": "Python 3.10.4 64-bit",
            "language": "python",
            "name": "python3"
        },
        "language_info": {
            "codemirror_mode": {
                "name": "ipython",
                "version": 3
            },
            "file_extension": ".py",
            "mimetype": "text/x-python",
            "name": "python",
            "nbconvert_exporter": "python",
            "pygments_lexer": "ipython3",
            "version": "3.10.4"
        }
    },
    "nbformat": 4,
    "nbformat_minor": 2
}

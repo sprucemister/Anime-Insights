{
 "cells": [
  {
   "cell_type": "code",
   "execution_count": 104,
   "metadata": {},
   "outputs": [],
   "source": [
    "import requests\n",
    "def make_request(page_num):\n",
    "    query = '''\n",
    "    query ($id: Int, $page: Int, $perPage: Int, $search: String) {\n",
    "        Page (page: $page, perPage: $perPage) {\n",
    "            pageInfo {\n",
    "                total\n",
    "                currentPage\n",
    "                lastPage\n",
    "                hasNextPage\n",
    "                perPage\n",
    "            }\n",
    "            media (id: $id, search: $search) {\n",
    "                id\n",
    "                title {\n",
    "                    english\n",
    "                    native\n",
    "                }\n",
    "                season\n",
    "                seasonYear\n",
    "                type\n",
    "                format\n",
    "                status\n",
    "                episodes\n",
    "                duration\n",
    "                chapters\n",
    "                volumes\n",
    "                isAdult\n",
    "                averageScore\n",
    "                popularity\n",
    "                source\n",
    "                countryOfOrigin\n",
    "                isLicensed\n",
    "            }\n",
    "        }\n",
    "    }\n",
    "    '''\n",
    "    variables = {\n",
    "        'search': 'my',\n",
    "        'page': page_num,\n",
    "        'perPage': 4\n",
    "    }\n",
    "    url = 'https://graphql.anilist.co'\n",
    "\n",
    "    response = requests.post(url, json={'query': query, 'variables': variables})\n",
    "    return response"
   ]
  },
  {
   "cell_type": "code",
   "execution_count": 105,
   "metadata": {},
   "outputs": [
    {
     "name": "stdout",
     "output_type": "stream",
     "text": [
      "{'id': 118362, 'title': {'romaji': 'Sennin Reijou: My Lady, My Master', 'english': None, 'native': '千年隷嬢 ~マイレディ、マイマスター~'}}\n",
      "{'data': {'Page': {'pageInfo': {'total': 5000, 'currentPage': 1, 'lastPage': 1250, 'hasNextPage': True, 'perPage': 4}, 'media': [{'id': 3095, 'title': {'english': None, 'native': 'その気にさせてよ myマイ舞'}, 'season': 'FALL', 'seasonYear': 1993, 'type': 'ANIME', 'format': 'OVA', 'status': 'FINISHED', 'episodes': 4, 'duration': 22, 'chapters': None, 'volumes': None, 'isAdult': False, 'averageScore': 49, 'popularity': 768, 'source': 'MANGA', 'countryOfOrigin': 'JP', 'isLicensed': True}, {'id': 107280, 'title': {'english': None, 'native': 'その気にさせてよmyマイ舞'}, 'season': None, 'seasonYear': None, 'type': 'MANGA', 'format': 'MANGA', 'status': 'FINISHED', 'episodes': None, 'duration': None, 'chapters': None, 'volumes': 9, 'isAdult': False, 'averageScore': None, 'popularity': 41, 'source': 'MANGA', 'countryOfOrigin': 'JP', 'isLicensed': True}, {'id': 142891, 'title': {'english': None, 'native': '새엄마는 내 여친'}, 'season': None, 'seasonYear': None, 'type': 'MANGA', 'format': 'MANGA', 'status': 'RELEASING', 'episodes': None, 'duration': None, 'chapters': None, 'volumes': None, 'isAdult': True, 'averageScore': None, 'popularity': 156, 'source': 'ORIGINAL', 'countryOfOrigin': 'KR', 'isLicensed': True}, {'id': 118362, 'title': {'english': None, 'native': '千年隷嬢 ~マイレディ、マイマスター~'}, 'season': None, 'seasonYear': None, 'type': 'MANGA', 'format': 'MANGA', 'status': 'FINISHED', 'episodes': None, 'duration': None, 'chapters': 8, 'volumes': 1, 'isAdult': True, 'averageScore': None, 'popularity': 173, 'source': 'ORIGINAL', 'countryOfOrigin': 'JP', 'isLicensed': True}]}}}\n",
      "                                                   data\n",
      "Page  {'pageInfo': {'total': 5000, 'currentPage': 1,...\n"
     ]
    }
   ],
   "source": [
    "import json\n",
    "import pandas as pd\n",
    "\n",
    "lastpage=2\n",
    "\n",
    "#for i in range(1,15):\n",
    "print(i)\n",
    "response=make_request(1)\n",
    "json_data = json.loads(response.text)\n",
    "\n",
    "df_data = json_data\n",
    "df = pd.DataFrame(df_data)\n",
    "print(response.json())\n",
    "print(df)"
   ]
  },
  {
   "cell_type": "code",
   "execution_count": 106,
   "metadata": {},
   "outputs": [
    {
     "name": "stdout",
     "output_type": "stream",
     "text": [
      "{'id': 3095, 'title': {'english': None, 'native': 'その気にさせてよ myマイ舞'}, 'season': 'FALL', 'seasonYear': 1993, 'type': 'ANIME', 'format': 'OVA', 'status': 'FINISHED', 'episodes': 4, 'duration': 22, 'chapters': None, 'volumes': None, 'isAdult': False, 'averageScore': 49, 'popularity': 768, 'source': 'MANGA', 'countryOfOrigin': 'JP', 'isLicensed': True}\n",
      "{'id': 107280, 'title': {'english': None, 'native': 'その気にさせてよmyマイ舞'}, 'season': None, 'seasonYear': None, 'type': 'MANGA', 'format': 'MANGA', 'status': 'FINISHED', 'episodes': None, 'duration': None, 'chapters': None, 'volumes': 9, 'isAdult': False, 'averageScore': None, 'popularity': 41, 'source': 'MANGA', 'countryOfOrigin': 'JP', 'isLicensed': True}\n",
      "{'id': 142891, 'title': {'english': None, 'native': '새엄마는 내 여친'}, 'season': None, 'seasonYear': None, 'type': 'MANGA', 'format': 'MANGA', 'status': 'RELEASING', 'episodes': None, 'duration': None, 'chapters': None, 'volumes': None, 'isAdult': True, 'averageScore': None, 'popularity': 156, 'source': 'ORIGINAL', 'countryOfOrigin': 'KR', 'isLicensed': True}\n",
      "{'id': 118362, 'title': {'english': None, 'native': '千年隷嬢 ~マイレディ、マイマスター~'}, 'season': None, 'seasonYear': None, 'type': 'MANGA', 'format': 'MANGA', 'status': 'FINISHED', 'episodes': None, 'duration': None, 'chapters': 8, 'volumes': 1, 'isAdult': True, 'averageScore': None, 'popularity': 173, 'source': 'ORIGINAL', 'countryOfOrigin': 'JP', 'isLicensed': True}\n"
     ]
    }
   ],
   "source": [
    "items=response.json()['data']['Page']['media']\n",
    "for i in items:\n",
    "    print(i)"
   ]
  },
  {
   "cell_type": "code",
   "execution_count": null,
   "metadata": {},
   "outputs": [],
   "source": []
  }
 ],
 "metadata": {
  "interpreter": {
   "hash": "26de051ba29f2982a8de78e945f0abaf191376122a1563185a90213a26c5da77"
  },
  "kernelspec": {
   "display_name": "Python 3 (ipykernel)",
   "language": "python",
   "name": "python3"
  },
  "language_info": {
   "codemirror_mode": {
    "name": "ipython",
    "version": 3
   },
   "file_extension": ".py",
   "mimetype": "text/x-python",
   "name": "python",
   "nbconvert_exporter": "python",
   "pygments_lexer": "ipython3",
   "version": "3.10.4"
  }
 },
 "nbformat": 4,
 "nbformat_minor": 2
}
